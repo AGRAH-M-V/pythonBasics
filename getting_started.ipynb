{
  "nbformat": 4,
  "nbformat_minor": 0,
  "metadata": {
    "colab": {
      "provenance": [],
      "authorship_tag": "ABX9TyM1L2Efj6lvOP3F+GDgKcmO",
      "include_colab_link": true
    },
    "kernelspec": {
      "name": "python3",
      "display_name": "Python 3"
    },
    "language_info": {
      "name": "python"
    }
  },
  "cells": [
    {
      "cell_type": "markdown",
      "metadata": {
        "id": "view-in-github",
        "colab_type": "text"
      },
      "source": [
        "<a href=\"https://colab.research.google.com/github/AGRAH-M-V/pythonBasics/blob/main/getting_started.ipynb\" target=\"_parent\"><img src=\"https://colab.research.google.com/assets/colab-badge.svg\" alt=\"Open In Colab\"/></a>"
      ]
    },
    {
      "cell_type": "code",
      "execution_count": null,
      "metadata": {
        "colab": {
          "base_uri": "https://localhost:8080/"
        },
        "id": "6jEDpphHnnor",
        "outputId": "21da6ca4-6ea2-48da-9707-31abc9a0874c"
      },
      "outputs": [
        {
          "output_type": "stream",
          "name": "stdout",
          "text": [
            "0\n",
            "invalid input\n"
          ]
        }
      ],
      "source": [
        "#Check if a Number is Positive or Negative in Python\n",
        "\n",
        "number=int(input())\n",
        "if number>0:\n",
        "    print(number, \"is positive\")\n",
        "elif number<0:\n",
        "    print(number, \"is negative\")\n",
        "else:\n",
        "    print(\"invalid input\")"
      ]
    },
    {
      "cell_type": "code",
      "source": [
        "#Check Whether a Number is Even or Odd in Python\n",
        "\n",
        "number=3\n",
        "if number%2==0:\n",
        "    print(\"Even\")\n",
        "else:\n",
        "    print(\"Odd\")"
      ],
      "metadata": {
        "colab": {
          "base_uri": "https://localhost:8080/"
        },
        "id": "aNp0ScucoozR",
        "outputId": "c86f2e1d-2f51-41fc-d7f1-348ecbb83c6a"
      },
      "execution_count": null,
      "outputs": [
        {
          "output_type": "stream",
          "name": "stdout",
          "text": [
            "Odd\n"
          ]
        }
      ]
    },
    {
      "cell_type": "code",
      "source": [
        "#Find the Sum of the First N Natural Numbers\n",
        "#1\n",
        "num=int(input())\n",
        "sum=0\n",
        "for i in range(num+1):\n",
        "    sum=sum+i\n",
        "print(sum)"
      ],
      "metadata": {
        "colab": {
          "base_uri": "https://localhost:8080/"
        },
        "id": "46cBKjhwrGm6",
        "outputId": "e1f8e8d9-65cb-45a6-8664-67de82f475fe"
      },
      "execution_count": null,
      "outputs": [
        {
          "output_type": "stream",
          "name": "stdout",
          "text": [
            "4\n",
            "10\n"
          ]
        }
      ]
    },
    {
      "cell_type": "code",
      "source": [
        "#Find the Sum of the First N Natural Numbers\n",
        "#2\n",
        "\n",
        "num=int(input())\n",
        "sum=int((num*(num+1))/2)\n",
        "print(sum)"
      ],
      "metadata": {
        "colab": {
          "base_uri": "https://localhost:8080/"
        },
        "id": "wjHUKfSKrjhx",
        "outputId": "bbd57437-52dc-4166-af23-f1d18ebc7418"
      },
      "execution_count": null,
      "outputs": [
        {
          "output_type": "stream",
          "name": "stdout",
          "text": [
            "4\n",
            "10\n"
          ]
        }
      ]
    },
    {
      "cell_type": "code",
      "source": [
        "#Find the Sum of the Numbers in a Given Interval\n",
        "#1\n",
        "num1,num2=2,5\n",
        "sum=0\n",
        "for i in range(num1,num2+1):\n",
        "    sum=sum+i\n",
        "print(sum)"
      ],
      "metadata": {
        "colab": {
          "base_uri": "https://localhost:8080/"
        },
        "id": "1iKS8RR5sdn_",
        "outputId": "025bfc71-858f-4ae4-ae96-5a86a620caf3"
      },
      "execution_count": null,
      "outputs": [
        {
          "output_type": "stream",
          "name": "stdout",
          "text": [
            "14\n"
          ]
        }
      ]
    },
    {
      "cell_type": "code",
      "source": [
        "#Find the Sum of the Numbers in a Given Interval\n",
        "#perform sum = int((num2*(num2+1)/2) – (num1*(num1+1)/2) + num1).\n",
        "#2\n",
        "num1,num2=2,5\n",
        "print(int(((num2*(num2+1))/2)-((num1*(num1+1))/2)+num1))"
      ],
      "metadata": {
        "colab": {
          "base_uri": "https://localhost:8080/"
        },
        "id": "RUBeDQDRtCuC",
        "outputId": "71f4f3f9-b52b-41d9-82fb-e47eb07d0902"
      },
      "execution_count": null,
      "outputs": [
        {
          "output_type": "stream",
          "name": "stdout",
          "text": [
            "14\n"
          ]
        }
      ]
    },
    {
      "cell_type": "code",
      "source": [
        "#Greatest of two numbers\n",
        "#1\n",
        "num1,num2=20,60\n",
        "if(num1>num2):\n",
        "    print(num1, \"is greater\")\n",
        "else:\n",
        "    print(num2, \"is greater\")"
      ],
      "metadata": {
        "colab": {
          "base_uri": "https://localhost:8080/"
        },
        "id": "0t6XFlz_0xsU",
        "outputId": "3bb1eeb3-9e28-4d3e-f19e-00cad9c75070"
      },
      "execution_count": null,
      "outputs": [
        {
          "output_type": "stream",
          "name": "stdout",
          "text": [
            "60 is greater\n"
          ]
        }
      ]
    },
    {
      "cell_type": "code",
      "source": [
        "#Greatest of two numbers\n",
        "#2\n",
        "num1,num2=20,60\n",
        "print(num1 if num1>num2 else num2)"
      ],
      "metadata": {
        "colab": {
          "base_uri": "https://localhost:8080/"
        },
        "id": "sZalPUVt1zhO",
        "outputId": "2c8eb8aa-4cc9-464d-cb24-d0d6ca0a633a"
      },
      "execution_count": null,
      "outputs": [
        {
          "output_type": "stream",
          "name": "stdout",
          "text": [
            "60\n"
          ]
        }
      ]
    },
    {
      "cell_type": "code",
      "source": [
        "#Greatest of two numbers\n",
        "#2\n",
        "num1,num2=20,60\n",
        "print(max(num1,num2))"
      ],
      "metadata": {
        "colab": {
          "base_uri": "https://localhost:8080/"
        },
        "id": "s51fj0uu2Dnr",
        "outputId": "4c65e557-5e86-47d7-dd0b-ac5c3c3869a4"
      },
      "execution_count": null,
      "outputs": [
        {
          "output_type": "stream",
          "name": "stdout",
          "text": [
            "60\n"
          ]
        }
      ]
    },
    {
      "cell_type": "code",
      "source": [
        "#Lowest of two numbers\n",
        "num1,num2=20,60\n",
        "print(min(num1,num2))"
      ],
      "metadata": {
        "colab": {
          "base_uri": "https://localhost:8080/"
        },
        "id": "cFN97kP12PQQ",
        "outputId": "b00415da-d8a9-4bf7-eb06-ff0c9cccd093"
      },
      "execution_count": null,
      "outputs": [
        {
          "output_type": "stream",
          "name": "stdout",
          "text": [
            "20\n"
          ]
        }
      ]
    },
    {
      "cell_type": "code",
      "source": [
        "#Find the Greatest of the Three Numbers\n",
        "#1\n",
        "num1,num2,num3=10,50,20\n",
        "print(max(num1,num2,num3))"
      ],
      "metadata": {
        "colab": {
          "base_uri": "https://localhost:8080/"
        },
        "id": "l5RW5qxg2gZl",
        "outputId": "fdb1e0ce-a2be-40f4-ff25-34cc7815f270"
      },
      "execution_count": null,
      "outputs": [
        {
          "output_type": "stream",
          "name": "stdout",
          "text": [
            "50\n"
          ]
        }
      ]
    },
    {
      "cell_type": "code",
      "source": [
        "#Find the Greatest of the Three Numbers\n",
        "#2\n",
        "num1,num2,num3=50,0,20\n",
        "if(num1>num2):\n",
        "    if(num1>num3):\n",
        "        print(num1)\n",
        "    else:\n",
        "        print(num3)\n",
        "elif(num2>num3):\n",
        "    print(num2)\n",
        "else:\n",
        "    print(num3)"
      ],
      "metadata": {
        "colab": {
          "base_uri": "https://localhost:8080/"
        },
        "id": "IWL0zhys24aL",
        "outputId": "828c395d-5366-40b0-e5ae-68fa18e4465d"
      },
      "execution_count": null,
      "outputs": [
        {
          "output_type": "stream",
          "name": "stdout",
          "text": [
            "50\n"
          ]
        }
      ]
    },
    {
      "cell_type": "code",
      "source": [
        "#Find the Greatest of the Three Numbers\n",
        "#3\n",
        "num1,num2,num3=50,0,20\n",
        "if(num1>=num2 and num1>=num3):\n",
        "    print(num1)\n",
        "elif(num2>=num1 and num2>=num3):\n",
        "    print(num2)\n",
        "else:\n",
        "    print(num3)"
      ],
      "metadata": {
        "colab": {
          "base_uri": "https://localhost:8080/"
        },
        "id": "j84XnUdV5NO9",
        "outputId": "e24190c2-bf0e-4195-f37f-252c1585d3b3"
      },
      "execution_count": null,
      "outputs": [
        {
          "output_type": "stream",
          "name": "stdout",
          "text": [
            "50\n"
          ]
        }
      ]
    },
    {
      "cell_type": "code",
      "source": [
        "#Check Whether a Year is a Leap Year or Not\n",
        "year=2020\n",
        "if(year%400==0) or (year%4==0 and year%100!=0):\n",
        "    print(\"Leap Year\")\n",
        "else:\n",
        "    print(\"Not Leap Year\")"
      ],
      "metadata": {
        "colab": {
          "base_uri": "https://localhost:8080/"
        },
        "id": "hyvDAIcX5kia",
        "outputId": "ff2a05c6-8913-4cc3-e568-74152f92102f"
      },
      "execution_count": null,
      "outputs": [
        {
          "output_type": "stream",
          "name": "stdout",
          "text": [
            "Leap Year\n"
          ]
        }
      ]
    },
    {
      "cell_type": "code",
      "source": [
        "#Check Whether a Number is a Prime or Not\n",
        "#1\n",
        "num=int(input())\n",
        "flag=0\n",
        "for i in range(2,num):\n",
        "    if(num%i==0):\n",
        "        flag=1\n",
        "        break\n",
        "if(flag==1):\n",
        "    print(\"Not Prime\")\n",
        "else:\n",
        "    print(\"Prime\")"
      ],
      "metadata": {
        "colab": {
          "base_uri": "https://localhost:8080/"
        },
        "id": "xvlY8ypS6l_F",
        "outputId": "8155f283-b340-4d67-a59b-b120f7a818f5"
      },
      "execution_count": null,
      "outputs": [
        {
          "output_type": "stream",
          "name": "stdout",
          "text": [
            "11\n",
            "Prime\n"
          ]
        }
      ]
    },
    {
      "cell_type": "code",
      "source": [
        "#Check Whether a Number is a Prime or Not\n",
        "#2\n",
        "num=int(input())\n",
        "flag=0\n",
        "for i in range(2,int((num/2)+1)):\n",
        "    if(num%i==0):\n",
        "        flag=1\n",
        "        break\n",
        "if(flag==1):\n",
        "    print(\"Not Prime\")\n",
        "else:\n",
        "    print(\"Prime\")"
      ],
      "metadata": {
        "colab": {
          "base_uri": "https://localhost:8080/"
        },
        "id": "wjOgHkHK_JDr",
        "outputId": "77ee7aa0-f555-419b-ef45-26423e53e029"
      },
      "execution_count": null,
      "outputs": [
        {
          "output_type": "stream",
          "name": "stdout",
          "text": [
            "4\n",
            "Not Prime\n"
          ]
        }
      ]
    },
    {
      "cell_type": "code",
      "source": [
        "#Find the Prime Numbers in a Given Interval\n",
        "#using list\n",
        "low,high=2,10\n",
        "primes=[]\n",
        "for i in range(low,high+1):\n",
        "    flag=0\n",
        "    if i<2:\n",
        "        continue\n",
        "    if i==2:\n",
        "        primes.append(2)\n",
        "        continue\n",
        "    for x in range(2,i):\n",
        "        if i%x==0:\n",
        "            flag=1\n",
        "            break\n",
        "    if(flag==0):\n",
        "        primes.append(i)\n",
        "print(primes)"
      ],
      "metadata": {
        "colab": {
          "base_uri": "https://localhost:8080/"
        },
        "id": "Yhe2UEUp04M3",
        "outputId": "d832babb-2b26-49d5-c8c0-12b1b0a2a9dc"
      },
      "execution_count": null,
      "outputs": [
        {
          "output_type": "stream",
          "name": "stdout",
          "text": [
            "[2, 3, 5, 7]\n"
          ]
        }
      ]
    },
    {
      "cell_type": "code",
      "source": [
        "#Find the sum of the Digits of a Number\n",
        "#1\n",
        "num=12345111\n",
        "sum=rem=0\n",
        "while num>0:\n",
        "    rem=num%10\n",
        "    num=num//10\n",
        "    sum=sum+rem\n",
        "print(sum)"
      ],
      "metadata": {
        "colab": {
          "base_uri": "https://localhost:8080/"
        },
        "id": "L8Gu1H1Z69QQ",
        "outputId": "b25b202a-0557-423e-c725-c8d934452bbc"
      },
      "execution_count": null,
      "outputs": [
        {
          "output_type": "stream",
          "name": "stdout",
          "text": [
            "18\n"
          ]
        }
      ]
    },
    {
      "cell_type": "code",
      "source": [
        "#Find the sum of the Digits of a Number\n",
        "#string\n",
        "#2\n",
        "num=input(\"enter the number: \")\n",
        "sum=0\n",
        "for i in num:\n",
        "    sum=sum+int(i)\n",
        "print(sum)"
      ],
      "metadata": {
        "colab": {
          "base_uri": "https://localhost:8080/"
        },
        "id": "27KdN4M79TNs",
        "outputId": "a406dafd-9f44-40d6-ead3-fc7331a39c8a"
      },
      "execution_count": null,
      "outputs": [
        {
          "output_type": "stream",
          "name": "stdout",
          "text": [
            "enter the number: 456\n",
            "15\n"
          ]
        }
      ]
    },
    {
      "cell_type": "code",
      "source": [
        "#Find the sum of the Digits of a Number\n",
        "#string to list\n",
        "#3\n",
        "num=123\n",
        "sum=0\n",
        "num1=list(map(int, str(num)))\n",
        "for ele in range(0,len(num1)):\n",
        "    sum=sum+num1[ele]\n",
        "print(sum)"
      ],
      "metadata": {
        "colab": {
          "base_uri": "https://localhost:8080/"
        },
        "id": "UIKXViZY_QBU",
        "outputId": "b2177dfb-4c66-4b01-deec-16c6fd190296"
      },
      "execution_count": null,
      "outputs": [
        {
          "output_type": "stream",
          "name": "stdout",
          "text": [
            "6\n"
          ]
        }
      ]
    },
    {
      "cell_type": "code",
      "source": [
        "#Find the sum of the Digits of a Number\n",
        "#string to list\n",
        "#4\n",
        "num=123\n",
        "sum=0\n",
        "num1=list(map(int, str(num)))\n",
        "for ele in num1:\n",
        "    sum=sum+ele\n",
        "print(sum)"
      ],
      "metadata": {
        "colab": {
          "base_uri": "https://localhost:8080/"
        },
        "id": "waoFeehoBb9h",
        "outputId": "2e674252-a810-4a09-a11b-d01d446eed47"
      },
      "execution_count": null,
      "outputs": [
        {
          "output_type": "stream",
          "name": "stdout",
          "text": [
            "6\n"
          ]
        }
      ]
    },
    {
      "cell_type": "code",
      "source": [
        "#Factors of a number\n",
        "#it is the numbers(factors) that can be divisible other than this Number\n",
        "num=int(input())\n",
        "factors=[]\n",
        "for i in range(1,int((num/2)+1)):\n",
        "    if(num%i==0):\n",
        "        factors.append(i)\n",
        "print(factors)"
      ],
      "metadata": {
        "colab": {
          "base_uri": "https://localhost:8080/"
        },
        "id": "T-CfiqkLBwu_",
        "outputId": "f895ed47-14dd-4d4c-dd9b-ec2c8ed88510"
      },
      "execution_count": null,
      "outputs": [
        {
          "output_type": "stream",
          "name": "stdout",
          "text": [
            "6\n",
            "[1, 2, 3]\n"
          ]
        }
      ]
    },
    {
      "cell_type": "code",
      "source": [
        "#Python program to check whether two numbers are Friendly Pair\n",
        "num1=int(input())\n",
        "num2=int(input())\n",
        "factors1=[]\n",
        "factors2=[]\n",
        "sum1=sum2=res1=res2=0\n",
        "for i in range(1,int((num1/2)+1)):\n",
        "    if(num1%i==0):\n",
        "        factors1.append(i)\n",
        "for ele1 in factors1:\n",
        "    sum1=sum1+ele1\n",
        "res1=sum1//num1\n",
        "for j in range(1,int((num2/2)+1)):\n",
        "    if(num2%j==0):\n",
        "        factors2.append(j)\n",
        "for ele2 in factors2:\n",
        "    sum2=sum2+ele2\n",
        "res2=sum2//num2\n",
        "if res1==res2:\n",
        "    print(\"friendly pair\")\n",
        "else:\n",
        "    print(\"not\")"
      ],
      "metadata": {
        "colab": {
          "base_uri": "https://localhost:8080/"
        },
        "id": "w7uclD5IEeHp",
        "outputId": "6d131d4e-d787-4f5a-f5d9-1937d10a398c"
      },
      "execution_count": null,
      "outputs": [
        {
          "output_type": "stream",
          "name": "stdout",
          "text": [
            "6\n",
            "28\n",
            "friendly pair\n"
          ]
        }
      ]
    },
    {
      "cell_type": "code",
      "source": [
        "#Reverse of a number\n",
        "#1\n",
        "numb=123\n",
        "rev=rem=0\n",
        "while numb>0:\n",
        "    rem=numb%10\n",
        "    rev=rev*10+rem\n",
        "    numb=numb//10\n",
        "print(rev)"
      ],
      "metadata": {
        "id": "eTt-paJ8HL69",
        "colab": {
          "base_uri": "https://localhost:8080/"
        },
        "outputId": "71708028-840d-43b7-fd2e-b48ce089f195"
      },
      "execution_count": null,
      "outputs": [
        {
          "output_type": "stream",
          "name": "stdout",
          "text": [
            "321\n"
          ]
        }
      ]
    },
    {
      "cell_type": "code",
      "source": [
        "#Reverse of a number\n",
        "#Using string slicing\n",
        "#2\n",
        "num=456\n",
        "a=str(num)\n",
        "print(a[::-1])"
      ],
      "metadata": {
        "colab": {
          "base_uri": "https://localhost:8080/"
        },
        "id": "1JJAFazf1QbV",
        "outputId": "2ad7cf41-30ec-4a81-93d6-7418cfda29e1"
      },
      "execution_count": null,
      "outputs": [
        {
          "output_type": "stream",
          "name": "stdout",
          "text": [
            "654\n"
          ]
        }
      ]
    },
    {
      "cell_type": "code",
      "source": [
        "#Check Whether or Not the Number is a Palindrome\n",
        "#Example\n",
        "#Input : 1221\n",
        "#Output : Palindrome\n",
        "#1\n",
        "original_number=1221\n",
        "temp=original_number\n",
        "reverse=remainder=0\n",
        "while(temp>0):\n",
        "    remainder=temp%10\n",
        "    reverse=(reverse*10)+remainder\n",
        "    temp=temp//10\n",
        "if(original_number==reverse):\n",
        "    print(\"palindrome\")\n",
        "else:\n",
        "    print(\"not\")"
      ],
      "metadata": {
        "id": "oo_XhJBJ17Ts",
        "colab": {
          "base_uri": "https://localhost:8080/"
        },
        "outputId": "b77c02fa-e88b-4f78-a3a9-9fea31ce616e"
      },
      "execution_count": null,
      "outputs": [
        {
          "output_type": "stream",
          "name": "stdout",
          "text": [
            "palindrome\n"
          ]
        }
      ]
    },
    {
      "cell_type": "code",
      "source": [
        "#Check Whether or Not the Number is a Palindrome\n",
        "#2\n",
        "number=1234\n",
        "a=str(number)\n",
        "if(number==int(a[::-1])):\n",
        "    print(\"Palindrome\")\n",
        "else:\n",
        "    print(\"not\")"
      ],
      "metadata": {
        "colab": {
          "base_uri": "https://localhost:8080/"
        },
        "id": "TtfvQd5x5W-2",
        "outputId": "36c07078-1537-4dce-a4e8-831c7fe707a8"
      },
      "execution_count": null,
      "outputs": [
        {
          "output_type": "stream",
          "name": "stdout",
          "text": [
            "not\n"
          ]
        }
      ]
    },
    {
      "cell_type": "code",
      "source": [
        "#Check Whether a Given Number is an Armstrong Number or Not\n",
        "#Example\n",
        "#Input : 371\n",
        "#Output : It's an Armstrong Number\n",
        "#Explanation : 371 can also be represented as 3^3 + 7^3 + 1^3 therefore it's an Armstrong Number.\n",
        "num=input()\n",
        "temp=int(num)\n",
        "l=len(str(num))\n",
        "sum=digit=0\n",
        "while temp>0:\n",
        "    rem=int(temp%10)\n",
        "    temp=temp//10\n",
        "    sum=sum+pow(rem,l)\n",
        "if(sum==int(num)):\n",
        "    print(\"armstrong\")\n",
        "else:\n",
        "    print(\"not\")"
      ],
      "metadata": {
        "colab": {
          "base_uri": "https://localhost:8080/"
        },
        "id": "2OVqZJgx6nhN",
        "outputId": "9b73030f-3190-41a7-d1f0-ee723b1a5657"
      },
      "execution_count": null,
      "outputs": [
        {
          "output_type": "stream",
          "name": "stdout",
          "text": [
            "371\n",
            "armstrong\n"
          ]
        }
      ]
    },
    {
      "cell_type": "code",
      "source": [
        "#Find the Armstrong Numbers in a given Range\n",
        "low,high=10,10000\n",
        "armstrong=[]\n",
        "for i in range(low,high+1):\n",
        "    sum=0\n",
        "    temp=i\n",
        "    l=len(str(i))\n",
        "    while temp>0:\n",
        "        digit=temp%10\n",
        "        sum=sum+pow(digit,l)\n",
        "        temp=temp//10\n",
        "    if(sum==i):\n",
        "        print(i,end=\" \")"
      ],
      "metadata": {
        "colab": {
          "base_uri": "https://localhost:8080/"
        },
        "id": "I_Gimu5Imt3x",
        "outputId": "f3ef68cc-d540-41a3-d018-8975f90fc61f"
      },
      "execution_count": null,
      "outputs": [
        {
          "output_type": "stream",
          "name": "stdout",
          "text": [
            "153 370 371 407 1634 8208 9474 "
          ]
        }
      ]
    },
    {
      "cell_type": "code",
      "source": [
        "#Find the Fibonacci Series \n",
        "#1 1 2 3 5-----\n",
        "n=int(input())\n",
        "num1,num2=0,1\n",
        "print(num1,num2,end=\" \")\n",
        "for i in range(n-2):\n",
        "    num3=num1+num2\n",
        "    num1=num2\n",
        "    num2=num3\n",
        "    print(num3,end=\" \")"
      ],
      "metadata": {
        "colab": {
          "base_uri": "https://localhost:8080/"
        },
        "id": "VigSuMs9q79u",
        "outputId": "77a8f872-00e6-4ab8-accb-be35e105cfa9"
      },
      "execution_count": null,
      "outputs": [
        {
          "output_type": "stream",
          "name": "stdout",
          "text": [
            "8\n",
            "0 1 1 2 3 5 8 13 "
          ]
        }
      ]
    },
    {
      "cell_type": "code",
      "source": [
        "#Find the Nth Term of a Fibonacci Series \n",
        "n=int(input())\n",
        "lisp=[]\n",
        "num1,num2=0,1\n",
        "lisp.append(num1)\n",
        "lisp.append(num2)\n",
        "for i in range(n-2):\n",
        "    num3=num1+num2\n",
        "    num1=num2\n",
        "    num2=num3\n",
        "    lisp.append(num3)\n",
        "print(\"Nth term =\",lisp[-1])"
      ],
      "metadata": {
        "colab": {
          "base_uri": "https://localhost:8080/"
        },
        "id": "FpSfFvK0tWNW",
        "outputId": "6c4cc3bc-5f29-472c-ca2e-a1935c4b3008"
      },
      "execution_count": null,
      "outputs": [
        {
          "output_type": "stream",
          "name": "stdout",
          "text": [
            "8\n",
            "Nth term = 13\n"
          ]
        }
      ]
    },
    {
      "cell_type": "code",
      "source": [
        "#Program to find Power of a number\n",
        "#1\n",
        "#using pow() function\n",
        "number=8\n",
        "a=3\n",
        "print(pow(number,a))"
      ],
      "metadata": {
        "colab": {
          "base_uri": "https://localhost:8080/"
        },
        "id": "zqOeLI82uzov",
        "outputId": "3fc8bb4d-05f8-4a1c-d787-6f6cfecb5244"
      },
      "execution_count": null,
      "outputs": [
        {
          "output_type": "stream",
          "name": "stdout",
          "text": [
            "512\n"
          ]
        }
      ]
    },
    {
      "cell_type": "code",
      "source": [
        "#Program to find Power of a number\n",
        "#2\n",
        "#using iteration\n",
        "#5^3=5x5x5=125\n",
        "num=5\n",
        "n=3\n",
        "if num>0:\n",
        "    result=1\n",
        "for i in range(1,n+1):\n",
        "    result=result*num\n",
        "print(result)"
      ],
      "metadata": {
        "colab": {
          "base_uri": "https://localhost:8080/"
        },
        "id": "4nxBFiqwvG9T",
        "outputId": "db2c7f14-c67a-4f33-9cc9-4516359a8a6e"
      },
      "execution_count": null,
      "outputs": [
        {
          "output_type": "stream",
          "name": "stdout",
          "text": [
            "125\n"
          ]
        }
      ]
    },
    {
      "cell_type": "code",
      "source": [
        "#Program to find Power of a number\n",
        "#3\n",
        "#using python operator\n",
        "num,pow=2,3\n",
        "print(num**pow)"
      ],
      "metadata": {
        "colab": {
          "base_uri": "https://localhost:8080/"
        },
        "id": "NAO4HxMUxHk6",
        "outputId": "1d627dcb-3123-4cf1-ea8d-1f81e2600f01"
      },
      "execution_count": null,
      "outputs": [
        {
          "output_type": "stream",
          "name": "stdout",
          "text": [
            "8\n"
          ]
        }
      ]
    },
    {
      "cell_type": "code",
      "source": [
        "#Factorial of a number\n",
        "num=int(input())\n",
        "fact=1\n",
        "for i in range(1,num+1):\n",
        "    fact=fact*i\n",
        "print(fact)"
      ],
      "metadata": {
        "colab": {
          "base_uri": "https://localhost:8080/"
        },
        "id": "U9xdFPEIx4li",
        "outputId": "e445da7e-05c8-4807-fa67-ea58e0598a3a"
      },
      "execution_count": null,
      "outputs": [
        {
          "output_type": "stream",
          "name": "stdout",
          "text": [
            "5\n",
            "120\n"
          ]
        }
      ]
    },
    {
      "cell_type": "code",
      "source": [
        "#Check Whether or Not the Number is a Strong Number\n",
        "#Example\n",
        "#Input : 145\n",
        "#Output : It's a Strong Number.\n",
        "#Explanation : Number = 145\n",
        "#145 = 1! + 4! + 5!\n",
        "#145 = 1 + 24 + 120\n",
        "def factorial(a):\n",
        "    fact=1\n",
        "    for i in range(1,a+1):\n",
        "        fact=fact*i\n",
        "    return fact\n",
        "\n",
        "num=int(input())\n",
        "temp=num\n",
        "rem=res=0\n",
        "while temp>0:\n",
        "    rem=temp%10\n",
        "    temp=temp//10\n",
        "    res=res+factorial(rem)\n",
        "if(res==num):\n",
        "    print(\"armstrong number\")\n",
        "else:\n",
        "    print(\"not\")"
      ],
      "metadata": {
        "colab": {
          "base_uri": "https://localhost:8080/"
        },
        "id": "dATT2d8lzlj0",
        "outputId": "fcb11ff9-da95-443b-8e33-4709216cb8ac"
      },
      "execution_count": null,
      "outputs": [
        {
          "output_type": "stream",
          "name": "stdout",
          "text": [
            "123\n",
            "not\n"
          ]
        }
      ]
    },
    {
      "cell_type": "code",
      "source": [
        "#factorial of a number using inbuilt function\n",
        "import math\n",
        "print(math.factorial(5))"
      ],
      "metadata": {
        "colab": {
          "base_uri": "https://localhost:8080/"
        },
        "id": "-czhodL55_m4",
        "outputId": "dcc2767a-ce37-4a49-b37f-de83f5d2bd3a"
      },
      "execution_count": null,
      "outputs": [
        {
          "output_type": "stream",
          "name": "stdout",
          "text": [
            "120\n"
          ]
        }
      ]
    },
    {
      "cell_type": "code",
      "source": [
        "#Check for Perfect Square \n",
        "import math\n",
        "num=int(input())\n",
        "a=math.sqrt(num)\n",
        "if(a**2==num):\n",
        "    print(\"perfect square\")\n",
        "else:\n",
        "    print(\"not\")"
      ],
      "metadata": {
        "id": "IAdfi5Su6XIx",
        "colab": {
          "base_uri": "https://localhost:8080/"
        },
        "outputId": "9955c9e0-dbec-4b7e-efc7-0dae94bed666"
      },
      "execution_count": null,
      "outputs": [
        {
          "output_type": "stream",
          "name": "stdout",
          "text": [
            "81\n",
            "perfect square\n"
          ]
        }
      ]
    },
    {
      "cell_type": "code",
      "source": [
        "#Check for Perfect Square \n",
        "n=int(input())\n",
        "flag=0\n",
        "for i in range(n):\n",
        "    if(i*i==n):\n",
        "        flag=1\n",
        "        break\n",
        "if(flag==1):\n",
        "    print(\"perfect square\")\n",
        "else:\n",
        "    print(\"not\")"
      ],
      "metadata": {
        "colab": {
          "base_uri": "https://localhost:8080/"
        },
        "id": "Ibh9aVpGLZ6e",
        "outputId": "0db237ea-1dea-42c1-bb8b-d86a13e7359c"
      },
      "execution_count": null,
      "outputs": [
        {
          "output_type": "stream",
          "name": "stdout",
          "text": [
            "7\n",
            "not\n"
          ]
        }
      ]
    },
    {
      "cell_type": "code",
      "source": [
        "#Check Whether or Not the Number is an Automorphic Number\n",
        "#Example\n",
        "#Input : number = 5\n",
        "#Output : It's an Automorphic number.\n",
        "#Explanation : Number = 5\n",
        "#Square of number = 25\n",
        "#as the square of the number ends with the number itself, It's an Automorphic number.\n",
        "#Method 3 : Using Endswith() Method\n",
        "num=int(input())\n",
        "a=str(num)\n",
        "num1=num**2\n",
        "b=str(num1)\n",
        "if b.endswith(a):\n",
        "    print(\"automorphic number\")\n",
        "else:\n",
        "    print(\"not\")"
      ],
      "metadata": {
        "colab": {
          "base_uri": "https://localhost:8080/"
        },
        "id": "VMDV8Q6gMqRA",
        "outputId": "d86d3ca1-7295-4a55-9499-a8f848516796"
      },
      "execution_count": null,
      "outputs": [
        {
          "output_type": "stream",
          "name": "stdout",
          "text": [
            "5\n",
            "automorphic number\n"
          ]
        }
      ]
    },
    {
      "cell_type": "code",
      "source": [
        "#Check Whether or Not a Number is a Harshad Number\n",
        "#Example\n",
        "#Input : 21\n",
        "#Output : Yes ' It's a Harshad Number.\n",
        "#Explanation : The sum of the digits of 21 is 3 i.e 2 + 1. As the number 21 is divisible by 3, It's a Harshad Number.\n",
        "n=int(input())\n",
        "str1=str(n)\n",
        "sum=0\n",
        "for s in str1:\n",
        "    sum=sum+int(s)\n",
        "if(n%sum==0):\n",
        "    print(\"Harshad number\")\n",
        "else:\n",
        "    print(\"not\")"
      ],
      "metadata": {
        "colab": {
          "base_uri": "https://localhost:8080/"
        },
        "id": "t_qo1xyCOLtR",
        "outputId": "a6d2b3b2-8cdf-4852-9d1f-64f05e6d7a57"
      },
      "execution_count": null,
      "outputs": [
        {
          "output_type": "stream",
          "name": "stdout",
          "text": [
            "21\n",
            "Harshad number\n"
          ]
        }
      ]
    },
    {
      "cell_type": "code",
      "source": [
        "#Check Whether or Not the Number is an Abundant Number in Python Language\n",
        "#Example\n",
        "#Input : Number = 12\n",
        "#Now the sum of the factors except the number itself is :\n",
        "#1 + 2 + 3 + 4 + 6 = 16\n",
        "#as the number 16>12 , the number itself.\n",
        "#It's an abundant number.\n",
        "num=int(input())\n",
        "l=[]\n",
        "sum1=0\n",
        "for i in range(1,num):\n",
        "    if(num%i==0):\n",
        "        sum1=sum1+i\n",
        "if(sum1>num):\n",
        "    print(\"abundant number\")\n",
        "else:\n",
        "    print(\"not\")"
      ],
      "metadata": {
        "colab": {
          "base_uri": "https://localhost:8080/"
        },
        "id": "9_GKFvdhOMCA",
        "outputId": "58ef5d5c-570a-43ee-8430-b4668ec12c5b"
      },
      "execution_count": null,
      "outputs": [
        {
          "output_type": "stream",
          "name": "stdout",
          "text": [
            "12\n",
            "abundant number\n"
          ]
        }
      ]
    }
  ]
}